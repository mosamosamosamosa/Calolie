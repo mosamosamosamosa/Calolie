{
 "cells": [
  {
   "cell_type": "code",
   "execution_count": 1,
   "metadata": {},
   "outputs": [
    {
     "name": "stdout",
     "output_type": "stream",
     "text": [
      "保存しました:image/photos.npz 300\n"
     ]
    }
   ],
   "source": [
    "# 画像ファイルを読んでNumpy形式に変換\n",
    "import numpy as np\n",
    "from PIL import Image\n",
    "import os, glob, random\n",
    "\n",
    "outfile = \"image/photos.npz\" # 保存ファイル名\n",
    "max_photo = 100 # 利用する写真の枚数\n",
    "photo_size = 32 # 画像サイズ\n",
    "x = [] # 画像データ\n",
    "y = [] # ラベルデータ\n",
    "\n",
    "def main():\n",
    "    # 各画像のフォルダを読む --- (*1)\n",
    "    glob_files(\"./image/sushi\", 0)\n",
    "    glob_files(\"./image/salad\", 1)\n",
    "    glob_files(\"./image/tofu\", 2)\n",
    "    # ファイルへ保存 --- (*2)\n",
    "    np.savez(outfile, x=x, y=y)\n",
    "    print(\"保存しました:\" + outfile, len(x))\n",
    "\n",
    "# path以下の画像を読み込む --- (*3)\n",
    "def glob_files(path, label):\n",
    "    files = glob.glob(path + \"/*.jpg\")\n",
    "    random.shuffle(files)\n",
    "    # 各ファイルを処理\n",
    "    num = 0\n",
    "    for f in files:\n",
    "        if num >= max_photo: break\n",
    "        num += 1\n",
    "        # 画像ファイルを読む\n",
    "        img = Image.open(f)\n",
    "        img = img.convert(\"RGB\") # 色空間をRGBに\n",
    "        img = img.resize((photo_size, photo_size)) # サイズ変更\n",
    "        img = np.asarray(img)\n",
    "        x.append(img)\n",
    "        y.append(label)\n",
    "\n",
    "if __name__ == '__main__':\n",
    "    main()\n"
   ]
  },
  {
   "cell_type": "code",
   "execution_count": null,
   "metadata": {},
   "outputs": [],
   "source": []
  }
 ],
 "metadata": {
  "kernelspec": {
   "display_name": "Python 3",
   "language": "python",
   "name": "python3"
  },
  "language_info": {
   "codemirror_mode": {
    "name": "ipython",
    "version": 3
   },
   "file_extension": ".py",
   "mimetype": "text/x-python",
   "name": "python",
   "nbconvert_exporter": "python",
   "pygments_lexer": "ipython3",
   "version": "3.7.4"
  }
 },
 "nbformat": 4,
 "nbformat_minor": 2
}
